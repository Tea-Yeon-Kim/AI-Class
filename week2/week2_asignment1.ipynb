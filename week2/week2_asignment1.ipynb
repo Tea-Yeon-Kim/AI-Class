{
 "cells": [
  {
   "cell_type": "markdown",
   "id": "8052d8cf-c890-4203-aa6f-77fc236ab9fb",
   "metadata": {},
   "source": [
    "### 1. csv, xls을 웹주소와 로컬 파일로 각각 읽어서 데이터프레임 작성"
   ]
  },
  {
   "cell_type": "code",
   "execution_count": 39,
   "id": "abc75896-d338-4ebd-8031-21fc429e12c0",
   "metadata": {},
   "outputs": [
    {
     "name": "stdout",
     "output_type": "stream",
     "text": [
      "   battery_power  blue  clock_speed  dual_sim  fc  four_g  int_memory  m_dep  \\\n",
      "0            842     0          2.2         0   1       0           7    0.6   \n",
      "1           1021     1          0.5         1   0       1          53    0.7   \n",
      "2            563     1          0.5         1   2       1          41    0.9   \n",
      "3            615     1          2.5         0   0       0          10    0.8   \n",
      "4           1821     1          1.2         0  13       1          44    0.6   \n",
      "\n",
      "   mobile_wt  n_cores  ...  px_height  px_width   ram  sc_h  sc_w  talk_time  \\\n",
      "0        188        2  ...         20       756  2549     9     7         19   \n",
      "1        136        3  ...        905      1988  2631    17     3          7   \n",
      "2        145        5  ...       1263      1716  2603    11     2          9   \n",
      "3        131        6  ...       1216      1786  2769    16     8         11   \n",
      "4        141        2  ...       1208      1212  1411     8     2         15   \n",
      "\n",
      "   three_g  touch_screen  wifi  price_range  \n",
      "0        0             0     1            1  \n",
      "1        1             1     0            2  \n",
      "2        1             1     0            2  \n",
      "3        1             0     0            2  \n",
      "4        1             1     0            1  \n",
      "\n",
      "[5 rows x 21 columns]\n"
     ]
    }
   ],
   "source": [
    "import requests\n",
    "\n",
    "url = \"https://raw.githubusercontent.com/MyungKyuYi/AI-class/main/mobile.csv\"\n",
    "response = requests.get(url)\n",
    "\n",
    "with open('mobile.csv', 'wb') as file:\n",
    "    file.write(response.content)\n",
    "\n",
    "# 저장된 파일을 pandas로 읽기\n",
    "df = pd.read_csv('mobile.csv')\n",
    "print(df.head())"
   ]
  },
  {
   "cell_type": "code",
   "execution_count": 41,
   "id": "613b4fe1-a7d9-4ce5-8d8c-de8c09b4518e",
   "metadata": {},
   "outputs": [
    {
     "name": "stdout",
     "output_type": "stream",
     "text": [
      "   battery_power  blue  clock_speed  dual_sim  fc  four_g  int_memory  m_dep  \\\n",
      "0            842     0          2.2         0   1       0           7    0.6   \n",
      "1           1021     1          0.5         1   0       1          53    0.7   \n",
      "2            563     1          0.5         1   2       1          41    0.9   \n",
      "3            615     1          2.5         0   0       0          10    0.8   \n",
      "4           1821     1          1.2         0  13       1          44    0.6   \n",
      "\n",
      "   mobile_wt  n_cores  ...  px_height  px_width   ram  sc_h  sc_w  talk_time  \\\n",
      "0        188        2  ...         20       756  2549     9     7         19   \n",
      "1        136        3  ...        905      1988  2631    17     3          7   \n",
      "2        145        5  ...       1263      1716  2603    11     2          9   \n",
      "3        131        6  ...       1216      1786  2769    16     8         11   \n",
      "4        141        2  ...       1208      1212  1411     8     2         15   \n",
      "\n",
      "   three_g  touch_screen  wifi  price_range  \n",
      "0        0             0     1            1  \n",
      "1        1             1     0            2  \n",
      "2        1             1     0            2  \n",
      "3        1             0     0            2  \n",
      "4        1             1     0            1  \n",
      "\n",
      "[5 rows x 21 columns]\n"
     ]
    }
   ],
   "source": [
    "import pandas as pd\n",
    "\n",
    "# raw 파일 URL 사용\n",
    "url = \"https://raw.githubusercontent.com/MyungKyuYi/AI-class/main/mobile.csv\"\n",
    "df = pd.read_csv(url)\n",
    "\n",
    "# 데이터 확인\n",
    "print(df.head())\n"
   ]
  },
  {
   "cell_type": "code",
   "execution_count": 48,
   "id": "5c567f50-b4dd-4cee-9f34-d7779f1c5e09",
   "metadata": {},
   "outputs": [
    {
     "name": "stdout",
     "output_type": "stream",
     "text": [
      "   Num.  subject_ID Sex(M/F)  Age(year)  Height(cm)  Weight(kg)  \\\n",
      "0     1           2   Female         45         152          63   \n",
      "1     1           2   Female         45         152          63   \n",
      "2     1           2   Female         45         152          63   \n",
      "3     2           3   Female         50         157          50   \n",
      "4     2           3   Female         50         157          50   \n",
      "\n",
      "   Systolic Blood Pressure(mmHg)  Diastolic Blood Pressure(mmHg)  \\\n",
      "0                            161                              89   \n",
      "1                            161                              89   \n",
      "2                            161                              89   \n",
      "3                            160                              93   \n",
      "4                            160                              93   \n",
      "\n",
      "   Heart Rate(b/m)  BMI(kg/m^2)  ...  2091  2092  2093  2094  2095  2096  \\\n",
      "0               97    27.268006  ...  1766  1766  1766  1833  1833  1827   \n",
      "1               97    27.268006  ...  1985  1985  2026  2026  2026  1977   \n",
      "2               97    27.268006  ...  1942  1900  1900  1938  1938  1938   \n",
      "3               76    20.284799  ...  2073  2072  2072  2072  2051  2051   \n",
      "4               76    20.284799  ...  2021  2010  2010  2010  2001  2001   \n",
      "\n",
      "   2097  2098  2099  2100  \n",
      "0  1827  1827  1754  1754  \n",
      "1  1977  1997  1997  1997  \n",
      "2  1924  1924  1929  1929  \n",
      "3  2036  2036  2036  2045  \n",
      "4  2003  2003  2003  1989  \n",
      "\n",
      "[5 rows x 2114 columns]\n"
     ]
    }
   ],
   "source": [
    "import requests\n",
    "import pandas as pd\n",
    "\n",
    "# GitHub 원시 URL\n",
    "url = \"https://raw.githubusercontent.com/MyungKyuYi/AI-class/main/combined_dataset-1.xlsx\"\n",
    "\n",
    "# 파일 다운로드\n",
    "response = requests.get(url)\n",
    "with open(\"combined_dataset-1.xlsx\", \"wb\") as file:\n",
    "    file.write(response.content)\n",
    "\n",
    "# 로컬 파일을 pandas로 읽기\n",
    "df = pd.read_excel(\"combined_dataset-1.xlsx\")\n",
    "\n",
    "# 데이터 확인\n",
    "print(df.head())"
   ]
  },
  {
   "cell_type": "code",
   "execution_count": 47,
   "id": "761f97f6-65c5-4e1d-9e1b-39e0a356322e",
   "metadata": {},
   "outputs": [
    {
     "name": "stdout",
     "output_type": "stream",
     "text": [
      "   Num.  subject_ID Sex(M/F)  Age(year)  Height(cm)  Weight(kg)  \\\n",
      "0     1           2   Female         45         152          63   \n",
      "1     1           2   Female         45         152          63   \n",
      "2     1           2   Female         45         152          63   \n",
      "3     2           3   Female         50         157          50   \n",
      "4     2           3   Female         50         157          50   \n",
      "\n",
      "   Systolic Blood Pressure(mmHg)  Diastolic Blood Pressure(mmHg)  \\\n",
      "0                            161                              89   \n",
      "1                            161                              89   \n",
      "2                            161                              89   \n",
      "3                            160                              93   \n",
      "4                            160                              93   \n",
      "\n",
      "   Heart Rate(b/m)  BMI(kg/m^2)  ...  2091  2092  2093  2094  2095  2096  \\\n",
      "0               97    27.268006  ...  1766  1766  1766  1833  1833  1827   \n",
      "1               97    27.268006  ...  1985  1985  2026  2026  2026  1977   \n",
      "2               97    27.268006  ...  1942  1900  1900  1938  1938  1938   \n",
      "3               76    20.284799  ...  2073  2072  2072  2072  2051  2051   \n",
      "4               76    20.284799  ...  2021  2010  2010  2010  2001  2001   \n",
      "\n",
      "   2097  2098  2099  2100  \n",
      "0  1827  1827  1754  1754  \n",
      "1  1977  1997  1997  1997  \n",
      "2  1924  1924  1929  1929  \n",
      "3  2036  2036  2036  2045  \n",
      "4  2003  2003  2003  1989  \n",
      "\n",
      "[5 rows x 2114 columns]\n"
     ]
    }
   ],
   "source": [
    "import pandas as pd\n",
    "\n",
    "# raw 파일 URL 사용\n",
    "url = \"https://raw.githubusercontent.com/MyungKyuYi/AI-class/main/combined_dataset-1.xlsx\"\n",
    "df = pd.read_excel(url)\n",
    "\n",
    "# 데이터 확인\n",
    "print(df.head())\n"
   ]
  },
  {
   "cell_type": "markdown",
   "id": "32a9cc93-4e74-4b89-8ccd-eee98c578af2",
   "metadata": {},
   "source": [
    "### "
   ]
  },
  {
   "cell_type": "code",
   "execution_count": 12,
   "id": "4d2e4ffa-b40f-4548-ba3d-cc5c495f369c",
   "metadata": {},
   "outputs": [
    {
     "name": "stdout",
     "output_type": "stream",
     "text": [
      "최적의 K 값: 1, 정확도: 1.00\n",
      "최종 모델 (K=1) 정확도: 1.00\n",
      "실제값: Iris-versicolor, 예측값: Iris-versicolor\n",
      "실제값: Iris-setosa, 예측값: Iris-setosa\n",
      "실제값: Iris-virginica, 예측값: Iris-virginica\n",
      "실제값: Iris-versicolor, 예측값: Iris-versicolor\n",
      "실제값: Iris-versicolor, 예측값: Iris-versicolor\n"
     ]
    }
   ],
   "source": [
    "import numpy as np\n",
    "import pandas as pd\n",
    "import matplotlib.pyplot as plt\n",
    "from sklearn.model_selection import train_test_split\n",
    "from sklearn.preprocessing import StandardScaler\n",
    "from sklearn.neighbors import KNeighborsClassifier\n",
    "from sklearn.metrics import accuracy_score, classification_report, confusion_matrix\n",
    "\n",
    "# 1. CSV 파일 불러오기\n",
    "df = pd.read_csv(\"iris.csv\")\n",
    "\n",
    "# 2. 데이터 분할 (특성 & 타겟)\n",
    "X = df.iloc[:, :-1]  # 마지막 열(target) 제외한 모든 열이 특성 데이터\n",
    "y = df.iloc[:, -1]   # 마지막 열(target)만 가져오기\n",
    "\n",
    "# 3. 데이터 분할 (훈련 80%, 테스트 20%)\n",
    "X_train, X_test, y_train, y_test = train_test_split(X, y, test_size=0.2, random_state=42)\n",
    "\n",
    "# 4. 데이터 표준화 (KNN은 거리 기반이므로 스케일링 필수)\n",
    "scaler = StandardScaler()\n",
    "X_train = scaler.fit_transform(X_train)\n",
    "X_test = scaler.transform(X_test)\n",
    "\n",
    "# 5. 최적의 K 값 찾기\n",
    "k_values = range(1, 21)  # 1부터 20까지 K 값 테스트\n",
    "accuracies = []\n",
    "\n",
    "for k in k_values:\n",
    "    knn = KNeighborsClassifier(n_neighbors=k)\n",
    "    knn.fit(X_train, y_train)\n",
    "    y_pred = knn.predict(X_test)\n",
    "    acc = accuracy_score(y_test, y_pred)\n",
    "    accuracies.append(acc)\n",
    "\n",
    "# 6. 최적 K 값 출력\n",
    "best_k = k_values[np.argmax(accuracies)]\n",
    "best_accuracy = max(accuracies)\n",
    "print(f\"최적의 K 값: {best_k}, 정확도: {best_accuracy:.2f}\")\n",
    "\n",
    "# 7. 최적 K 값으로 최종 모델 학습\n",
    "knn = KNeighborsClassifier(n_neighbors=best_k)\n",
    "knn.fit(X_train, y_train)\n",
    "y_pred = knn.predict(X_test)\n",
    "\n",
    "# 8. 예측 및 평가\n",
    "accuracy = accuracy_score(y_test, y_pred)\n",
    "print(f\"최종 모델 (K={best_k}) 정확도: {accuracy:.2f}\")\n",
    "\n",
    "# 9. 결과 출력 (처음 5개 샘플 비교)\n",
    "for i in range(5):\n",
    "    print(f\"실제값: {y_test.iloc[i]}, 예측값: {y_pred[i]}\")\n"
   ]
  },
  {
   "cell_type": "code",
   "execution_count": 14,
   "id": "75ce2c16-1d34-4e0a-88a8-9e6c4562d60e",
   "metadata": {},
   "outputs": [
    {
     "name": "stdout",
     "output_type": "stream",
     "text": [
      "SVM Accuracy: 1.0000\n",
      "\n",
      "                 precision    recall  f1-score   support\n",
      "\n",
      "    Iris-setosa       1.00      1.00      1.00        10\n",
      "Iris-versicolor       1.00      1.00      1.00         9\n",
      " Iris-virginica       1.00      1.00      1.00        11\n",
      "\n",
      "       accuracy                           1.00        30\n",
      "      macro avg       1.00      1.00      1.00        30\n",
      "   weighted avg       1.00      1.00      1.00        30\n",
      " \n",
      "\n",
      "[[10  0  0]\n",
      " [ 0  9  0]\n",
      " [ 0  0 11]]\n",
      "실제값: Iris-versicolor, 예측값: Iris-versicolor\n",
      "실제값: Iris-setosa, 예측값: Iris-setosa\n",
      "실제값: Iris-virginica, 예측값: Iris-virginica\n",
      "실제값: Iris-versicolor, 예측값: Iris-versicolor\n",
      "실제값: Iris-versicolor, 예측값: Iris-versicolor\n",
      "실제값: Iris-setosa, 예측값: Iris-setosa\n",
      "실제값: Iris-versicolor, 예측값: Iris-versicolor\n",
      "실제값: Iris-virginica, 예측값: Iris-virginica\n",
      "실제값: Iris-versicolor, 예측값: Iris-versicolor\n",
      "실제값: Iris-versicolor, 예측값: Iris-versicolor\n",
      "실제값: Iris-virginica, 예측값: Iris-virginica\n",
      "실제값: Iris-setosa, 예측값: Iris-setosa\n",
      "실제값: Iris-setosa, 예측값: Iris-setosa\n",
      "실제값: Iris-setosa, 예측값: Iris-setosa\n",
      "실제값: Iris-setosa, 예측값: Iris-setosa\n",
      "실제값: Iris-versicolor, 예측값: Iris-versicolor\n",
      "실제값: Iris-virginica, 예측값: Iris-virginica\n",
      "실제값: Iris-versicolor, 예측값: Iris-versicolor\n",
      "실제값: Iris-versicolor, 예측값: Iris-versicolor\n",
      "실제값: Iris-virginica, 예측값: Iris-virginica\n"
     ]
    }
   ],
   "source": [
    "# SVM (서포트 벡터 머신 분류 모델)\n",
    "from sklearn.svm import SVC\n",
    "\n",
    "svm_model = SVC()\n",
    "svm_model.fit(X_train, y_train)\n",
    "svm_pred = svm_model.predict(X_test)\n",
    "svm_acc = accuracy_score(y_test, svm_pred)\n",
    "print(f'SVM Accuracy: {svm_acc:.4f}\\n')\n",
    "print(classification_report(y_test, svm_pred), '\\n')\n",
    "print(confusion_matrix(y_test, svm_pred))\n",
    "for i in range(20):\n",
    "    print(f\"실제값: {y_test.iloc[i]}, 예측값: {svm_pred[i]}\")"
   ]
  }
 ],
 "metadata": {
  "kernelspec": {
   "display_name": "Python [conda env:base] *",
   "language": "python",
   "name": "conda-base-py"
  },
  "language_info": {
   "codemirror_mode": {
    "name": "ipython",
    "version": 3
   },
   "file_extension": ".py",
   "mimetype": "text/x-python",
   "name": "python",
   "nbconvert_exporter": "python",
   "pygments_lexer": "ipython3",
   "version": "3.12.7"
  }
 },
 "nbformat": 4,
 "nbformat_minor": 5
}
