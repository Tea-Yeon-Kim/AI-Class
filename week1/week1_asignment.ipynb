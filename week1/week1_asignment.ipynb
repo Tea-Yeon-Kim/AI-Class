{
 "cells": [
  {
   "cell_type": "markdown",
   "id": "1ed71001-9dad-493d-b3e4-79de4ea295d1",
   "metadata": {},
   "source": [
    "# 인공지능개론 1주차 과제"
   ]
  },
  {
   "cell_type": "markdown",
   "id": "d0348f9c-82c2-4245-87a5-5e22665ba9a6",
   "metadata": {},
   "source": [
    "붓꽃 데이터를 입력받아 DT, LR, SVM, RP 학습하고 구하는 프로그램 작성"
   ]
  },
  {
   "cell_type": "code",
   "execution_count": 198,
   "id": "4c305c95-5c5b-4258-91ed-8395ca2878cc",
   "metadata": {},
   "outputs": [
    {
     "data": {
      "text/html": [
       "<div>\n",
       "<style scoped>\n",
       "    .dataframe tbody tr th:only-of-type {\n",
       "        vertical-align: middle;\n",
       "    }\n",
       "\n",
       "    .dataframe tbody tr th {\n",
       "        vertical-align: top;\n",
       "    }\n",
       "\n",
       "    .dataframe thead th {\n",
       "        text-align: right;\n",
       "    }\n",
       "</style>\n",
       "<table border=\"1\" class=\"dataframe\">\n",
       "  <thead>\n",
       "    <tr style=\"text-align: right;\">\n",
       "      <th></th>\n",
       "      <th>SepalLength</th>\n",
       "      <th>SepalWidth</th>\n",
       "      <th>PetalLength</th>\n",
       "      <th>PetalWidth</th>\n",
       "      <th>Name</th>\n",
       "    </tr>\n",
       "  </thead>\n",
       "  <tbody>\n",
       "    <tr>\n",
       "      <th>0</th>\n",
       "      <td>5.1</td>\n",
       "      <td>3.5</td>\n",
       "      <td>1.4</td>\n",
       "      <td>0.2</td>\n",
       "      <td>Iris-setosa</td>\n",
       "    </tr>\n",
       "    <tr>\n",
       "      <th>1</th>\n",
       "      <td>4.9</td>\n",
       "      <td>3.0</td>\n",
       "      <td>1.4</td>\n",
       "      <td>0.2</td>\n",
       "      <td>Iris-setosa</td>\n",
       "    </tr>\n",
       "    <tr>\n",
       "      <th>2</th>\n",
       "      <td>4.7</td>\n",
       "      <td>3.2</td>\n",
       "      <td>1.3</td>\n",
       "      <td>0.2</td>\n",
       "      <td>Iris-setosa</td>\n",
       "    </tr>\n",
       "    <tr>\n",
       "      <th>3</th>\n",
       "      <td>4.6</td>\n",
       "      <td>3.1</td>\n",
       "      <td>1.5</td>\n",
       "      <td>0.2</td>\n",
       "      <td>Iris-setosa</td>\n",
       "    </tr>\n",
       "    <tr>\n",
       "      <th>4</th>\n",
       "      <td>5.0</td>\n",
       "      <td>3.6</td>\n",
       "      <td>1.4</td>\n",
       "      <td>0.2</td>\n",
       "      <td>Iris-setosa</td>\n",
       "    </tr>\n",
       "  </tbody>\n",
       "</table>\n",
       "</div>"
      ],
      "text/plain": [
       "   SepalLength  SepalWidth  PetalLength  PetalWidth         Name\n",
       "0          5.1         3.5          1.4         0.2  Iris-setosa\n",
       "1          4.9         3.0          1.4         0.2  Iris-setosa\n",
       "2          4.7         3.2          1.3         0.2  Iris-setosa\n",
       "3          4.6         3.1          1.5         0.2  Iris-setosa\n",
       "4          5.0         3.6          1.4         0.2  Iris-setosa"
      ]
     },
     "execution_count": 198,
     "metadata": {},
     "output_type": "execute_result"
    }
   ],
   "source": [
    "import pandas as pd\n",
    "import numpy as np\n",
    "from sklearn.model_selection import train_test_split\n",
    "from sklearn.preprocessing import StandardScaler\n",
    "from sklearn.metrics import accuracy_score, confusion_matrix\n",
    "\n",
    "# 엑셀 데이터 로드 함수\n",
    "def load_data(file_path):\n",
    "    x = df.iloc[:, :-1]  # 마지막 열을 제외한 특성 데이터\n",
    "    y = df.iloc[:, -1]   # 마지막 열(타겟 데이터)\n",
    "    return x, y\n",
    "\n",
    "file_path = 'iris.csv'  # 데이터 파일 경로\n",
    "df = pd.read_csv(file_path)  # 엑셀 파일을 데이터프레임으로 읽기\n",
    "df.head()"
   ]
  },
  {
   "cell_type": "code",
   "execution_count": 200,
   "id": "a035ea5e-7c26-40f8-adfb-80ef91d1e602",
   "metadata": {},
   "outputs": [],
   "source": [
    "x, y = load_data(file_path)  # 데이터 로드"
   ]
  },
  {
   "cell_type": "code",
   "execution_count": 202,
   "id": "d02b2451-bd97-4cf0-8fd2-db7703a47648",
   "metadata": {},
   "outputs": [],
   "source": [
    "# 데이터를 훈련 세트와 테스트 세트로 분할 (80% 훈련, 20% 테스트)\n",
    "X_train, X_test, y_train, y_test = train_test_split(x, y, test_size=0.2, random_state=42)"
   ]
  },
  {
   "cell_type": "code",
   "execution_count": 204,
   "id": "a77dcf0e-50eb-442e-889f-4354151a4b65",
   "metadata": {},
   "outputs": [],
   "source": [
    "# 데이터 정규화 (평균 0, 표준편차 1로 변환)\n",
    "scaler = StandardScaler()\n",
    "X_train_scaled = scaler.fit_transform(X_train)\n",
    "X_test_scaled = scaler.transform(X_test)"
   ]
  },
  {
   "cell_type": "code",
   "execution_count": 224,
   "id": "b7ab9b41-7351-47ab-be32-388da26f60be",
   "metadata": {},
   "outputs": [
    {
     "name": "stdout",
     "output_type": "stream",
     "text": [
      "Decision Tree Accuracy: 1.0000\n",
      "\n",
      "                 precision    recall  f1-score   support\n",
      "\n",
      "    Iris-setosa       1.00      1.00      1.00        10\n",
      "Iris-versicolor       1.00      1.00      1.00         9\n",
      " Iris-virginica       1.00      1.00      1.00        11\n",
      "\n",
      "       accuracy                           1.00        30\n",
      "      macro avg       1.00      1.00      1.00        30\n",
      "   weighted avg       1.00      1.00      1.00        30\n",
      " \n",
      "\n",
      "[[10  0  0]\n",
      " [ 0  9  0]\n",
      " [ 0  0 11]]\n"
     ]
    }
   ],
   "source": [
    "# Decision Tree (의사결정나무 분류 모델)\n",
    "from sklearn.tree import DecisionTreeClassifier\n",
    "\n",
    "dt_model = DecisionTreeClassifier()\n",
    "dt_model.fit(X_train_scaled, y_train)  # 모델 학습\n",
    "\n",
    "dt_pred = dt_model.predict(X_test_scaled)  # 테스트 데이터 예측\n",
    "dt_acc = accuracy_score(y_test, dt_pred)  # 정확도 평가\n",
    "print(f'Decision Tree Accuracy: {dt_acc:.4f}\\n')\n",
    "print(classification_report(y_test, dt_pred), '\\n')\n",
    "print(confusion_matrix(y_test, dt_pred))"
   ]
  },
  {
   "cell_type": "code",
   "execution_count": 226,
   "id": "3a7926c4-3b24-4d27-a837-70f99fd7d3b7",
   "metadata": {},
   "outputs": [
    {
     "name": "stdout",
     "output_type": "stream",
     "text": [
      "Logistic Regression Accuracy: 1.0000\n",
      "\n",
      "                 precision    recall  f1-score   support\n",
      "\n",
      "    Iris-setosa       1.00      1.00      1.00        10\n",
      "Iris-versicolor       1.00      1.00      1.00         9\n",
      " Iris-virginica       1.00      1.00      1.00        11\n",
      "\n",
      "       accuracy                           1.00        30\n",
      "      macro avg       1.00      1.00      1.00        30\n",
      "   weighted avg       1.00      1.00      1.00        30\n",
      " \n",
      "\n",
      "[[10  0  0]\n",
      " [ 0  9  0]\n",
      " [ 0  0 11]]\n"
     ]
    }
   ],
   "source": [
    "# Logistic Regression (로지스틱 회귀 분류 모델)\n",
    "from sklearn.linear_model import LogisticRegression\n",
    "\n",
    "lr_model = LogisticRegression(max_iter=200)\n",
    "lr_model.fit(X_train_scaled, y_train)\n",
    "lr_pred = lr_model.predict(X_test_scaled)\n",
    "lr_acc = accuracy_score(y_test, lr_pred)\n",
    "print(f'Logistic Regression Accuracy: {lr_acc:.4f}\\n')\n",
    "print(classification_report(y_test, lr_pred), '\\n')\n",
    "print(confusion_matrix(y_test, lr_pred))"
   ]
  },
  {
   "cell_type": "code",
   "execution_count": 228,
   "id": "6bc04379-ee53-4111-ad6d-57eb36fdbcb6",
   "metadata": {},
   "outputs": [
    {
     "name": "stdout",
     "output_type": "stream",
     "text": [
      "SVM Accuracy: 1.0000\n",
      "\n",
      "                 precision    recall  f1-score   support\n",
      "\n",
      "    Iris-setosa       1.00      1.00      1.00        10\n",
      "Iris-versicolor       1.00      1.00      1.00         9\n",
      " Iris-virginica       1.00      1.00      1.00        11\n",
      "\n",
      "       accuracy                           1.00        30\n",
      "      macro avg       1.00      1.00      1.00        30\n",
      "   weighted avg       1.00      1.00      1.00        30\n",
      " \n",
      "\n",
      "[[10  0  0]\n",
      " [ 0  9  0]\n",
      " [ 0  0 11]]\n"
     ]
    }
   ],
   "source": [
    "# SVM (서포트 벡터 머신 분류 모델)\n",
    "from sklearn.svm import SVC\n",
    "\n",
    "svm_model = SVC()\n",
    "svm_model.fit(X_train_scaled, y_train)\n",
    "svm_pred = svm_model.predict(X_test_scaled)\n",
    "svm_acc = accuracy_score(y_test, svm_pred)\n",
    "print(f'SVM Accuracy: {svm_acc:.4f}\\n')\n",
    "print(classification_report(y_test, svm_pred), '\\n')\n",
    "print(confusion_matrix(y_test, svm_pred))"
   ]
  },
  {
   "cell_type": "code",
   "execution_count": 230,
   "id": "a1d5cfd0-2917-4dd0-b385-9c70cfc9122a",
   "metadata": {},
   "outputs": [
    {
     "name": "stdout",
     "output_type": "stream",
     "text": [
      "Random Projection Accuracy: 1.0000\n",
      "\n",
      "                 precision    recall  f1-score   support\n",
      "\n",
      "    Iris-setosa       1.00      1.00      1.00        10\n",
      "Iris-versicolor       1.00      1.00      1.00         9\n",
      " Iris-virginica       1.00      1.00      1.00        11\n",
      "\n",
      "       accuracy                           1.00        30\n",
      "      macro avg       1.00      1.00      1.00        30\n",
      "   weighted avg       1.00      1.00      1.00        30\n",
      " \n",
      "\n",
      "[[10  0  0]\n",
      " [ 0  9  0]\n",
      " [ 0  0 11]]\n"
     ]
    }
   ],
   "source": [
    "# Random Projection (무작위 투사를 이용한 차원 축소 후 분류)\n",
    "from sklearn.random_projection import GaussianRandomProjection\n",
    "\n",
    "rp_model = GaussianRandomProjection(n_components=4, random_state=42)\n",
    "X_train_proj = rp_model.fit_transform(X_train_scaled)  # 훈련 데이터 차원 축소\n",
    "X_test_proj = rp_model.transform(X_test_scaled)  # 테스트 데이터 차원 축소\n",
    "\n",
    "# 차원 축소된 데이터로 로지스틱 회귀 분류기 학습\n",
    "rp_classifier = LogisticRegression(max_iter=200)\n",
    "rp_classifier.fit(X_train_proj, y_train)\n",
    "rp_pred = rp_classifier.predict(X_test_proj)\n",
    "rp_acc = accuracy_score(y_test, rp_pred)\n",
    "print(f'Random Projection Accuracy: {rp_acc:.4f}\\n')\n",
    "print(classification_report(y_test, rp_pred),'\\n')\n",
    "print(confusion_matrix(y_test, rp_pred))"
   ]
  }
 ],
 "metadata": {
  "kernelspec": {
   "display_name": "Python [conda env:base] *",
   "language": "python",
   "name": "conda-base-py"
  },
  "language_info": {
   "codemirror_mode": {
    "name": "ipython",
    "version": 3
   },
   "file_extension": ".py",
   "mimetype": "text/x-python",
   "name": "python",
   "nbconvert_exporter": "python",
   "pygments_lexer": "ipython3",
   "version": "3.12.7"
  }
 },
 "nbformat": 4,
 "nbformat_minor": 5
}
