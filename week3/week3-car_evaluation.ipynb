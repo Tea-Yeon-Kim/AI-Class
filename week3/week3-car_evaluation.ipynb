{
 "cells": [
  {
   "cell_type": "code",
   "execution_count": 6,
   "id": "dc59df97-19fc-4ebb-bade-5764ccb75454",
   "metadata": {},
   "outputs": [
    {
     "data": {
      "text/html": [
       "<div>\n",
       "<style scoped>\n",
       "    .dataframe tbody tr th:only-of-type {\n",
       "        vertical-align: middle;\n",
       "    }\n",
       "\n",
       "    .dataframe tbody tr th {\n",
       "        vertical-align: top;\n",
       "    }\n",
       "\n",
       "    .dataframe thead th {\n",
       "        text-align: right;\n",
       "    }\n",
       "</style>\n",
       "<table border=\"1\" class=\"dataframe\">\n",
       "  <thead>\n",
       "    <tr style=\"text-align: right;\">\n",
       "      <th></th>\n",
       "      <th>vhigh</th>\n",
       "      <th>vhigh.1</th>\n",
       "      <th>2</th>\n",
       "      <th>2.1</th>\n",
       "      <th>small</th>\n",
       "      <th>low</th>\n",
       "      <th>unacc</th>\n",
       "    </tr>\n",
       "  </thead>\n",
       "  <tbody>\n",
       "    <tr>\n",
       "      <th>0</th>\n",
       "      <td>vhigh</td>\n",
       "      <td>vhigh</td>\n",
       "      <td>2</td>\n",
       "      <td>2</td>\n",
       "      <td>small</td>\n",
       "      <td>med</td>\n",
       "      <td>unacc</td>\n",
       "    </tr>\n",
       "    <tr>\n",
       "      <th>1</th>\n",
       "      <td>vhigh</td>\n",
       "      <td>vhigh</td>\n",
       "      <td>2</td>\n",
       "      <td>2</td>\n",
       "      <td>small</td>\n",
       "      <td>high</td>\n",
       "      <td>unacc</td>\n",
       "    </tr>\n",
       "    <tr>\n",
       "      <th>2</th>\n",
       "      <td>vhigh</td>\n",
       "      <td>vhigh</td>\n",
       "      <td>2</td>\n",
       "      <td>2</td>\n",
       "      <td>med</td>\n",
       "      <td>low</td>\n",
       "      <td>unacc</td>\n",
       "    </tr>\n",
       "    <tr>\n",
       "      <th>3</th>\n",
       "      <td>vhigh</td>\n",
       "      <td>vhigh</td>\n",
       "      <td>2</td>\n",
       "      <td>2</td>\n",
       "      <td>med</td>\n",
       "      <td>med</td>\n",
       "      <td>unacc</td>\n",
       "    </tr>\n",
       "    <tr>\n",
       "      <th>4</th>\n",
       "      <td>vhigh</td>\n",
       "      <td>vhigh</td>\n",
       "      <td>2</td>\n",
       "      <td>2</td>\n",
       "      <td>med</td>\n",
       "      <td>high</td>\n",
       "      <td>unacc</td>\n",
       "    </tr>\n",
       "  </tbody>\n",
       "</table>\n",
       "</div>"
      ],
      "text/plain": [
       "   vhigh vhigh.1  2 2.1  small   low  unacc\n",
       "0  vhigh   vhigh  2   2  small   med  unacc\n",
       "1  vhigh   vhigh  2   2  small  high  unacc\n",
       "2  vhigh   vhigh  2   2    med   low  unacc\n",
       "3  vhigh   vhigh  2   2    med   med  unacc\n",
       "4  vhigh   vhigh  2   2    med  high  unacc"
      ]
     },
     "execution_count": 6,
     "metadata": {},
     "output_type": "execute_result"
    }
   ],
   "source": [
    "import pandas as pd\n",
    "import numpy as np\n",
    "import requests\n",
    "from sklearn.model_selection import train_test_split\n",
    "from sklearn.preprocessing import StandardScaler\n",
    "from sklearn.preprocessing import LabelEncoder\n",
    "from sklearn.metrics import accuracy_score, confusion_matrix, classification_report\n",
    "\n",
    "# 엑셀 데이터 로드 함수\n",
    "def load_data(file_path):\n",
    "    x = df.iloc[:, :-1]  # 마지막 열을 제외한 특성 데이터\n",
    "    y = df.iloc[:, -1]   # 마지막 열(타겟 데이터)\n",
    "    return x, y\n",
    "\n",
    "file_path = 'car_evaluation.csv'\n",
    "df = pd.read_csv(file_path)\n",
    "\n",
    "df.head()"
   ]
  },
  {
   "cell_type": "code",
   "execution_count": 16,
   "id": "f1244e86-fef8-4d5d-aa0b-4b2f5f28d49a",
   "metadata": {},
   "outputs": [
    {
     "name": "stdout",
     "output_type": "stream",
     "text": [
      "unacc 개수:\n",
      "unacc\n",
      "2    1209\n",
      "0     384\n",
      "1      69\n",
      "3      65\n",
      "Name: count, dtype: int64\n"
     ]
    }
   ],
   "source": [
    "# 'unacc' 열의 개수 확인\n",
    "unacc_count = df['unacc'].value_counts()\n",
    "\n",
    "# 결과 출력\n",
    "print(\"unacc 개수:\")\n",
    "print(unacc_count)"
   ]
  },
  {
   "cell_type": "code",
   "execution_count": 8,
   "id": "47fd1703-ed01-4a2d-b2df-e720aa8dcb59",
   "metadata": {},
   "outputs": [
    {
     "name": "stdout",
     "output_type": "stream",
     "text": [
      "\n",
      "결측치 개수:\n",
      "vhigh      0\n",
      "vhigh.1    0\n",
      "2          0\n",
      "2.1        0\n",
      "small      0\n",
      "low        0\n",
      "unacc      0\n",
      "dtype: int64\n"
     ]
    }
   ],
   "source": [
    "# 결측치 확인\n",
    "missing_values = df.isnull().sum()\n",
    "\n",
    "print(\"\\n결측치 개수:\")\n",
    "print(missing_values)"
   ]
  },
  {
   "cell_type": "code",
   "execution_count": 10,
   "id": "e2798bab-1656-4d52-8135-7f7dfd1d3b62",
   "metadata": {},
   "outputs": [
    {
     "name": "stdout",
     "output_type": "stream",
     "text": [
      "\n",
      "결측치 개수:\n",
      "vhigh      0\n",
      "vhigh.1    0\n",
      "2          0\n",
      "2.1        0\n",
      "small      0\n",
      "low        0\n",
      "unacc      0\n",
      "dtype: int64\n"
     ]
    }
   ],
   "source": [
    "# 결측치 제거\n",
    "df = df.dropna()\n",
    "missing_values = df.isnull().sum()\n",
    "\n",
    "print(\"\\n결측치 개수:\")\n",
    "print(missing_values)"
   ]
  },
  {
   "cell_type": "code",
   "execution_count": 12,
   "id": "3235bf1a-33bb-430e-a87d-5cc02dbb7df1",
   "metadata": {},
   "outputs": [
    {
     "data": {
      "text/html": [
       "<div>\n",
       "<style scoped>\n",
       "    .dataframe tbody tr th:only-of-type {\n",
       "        vertical-align: middle;\n",
       "    }\n",
       "\n",
       "    .dataframe tbody tr th {\n",
       "        vertical-align: top;\n",
       "    }\n",
       "\n",
       "    .dataframe thead th {\n",
       "        text-align: right;\n",
       "    }\n",
       "</style>\n",
       "<table border=\"1\" class=\"dataframe\">\n",
       "  <thead>\n",
       "    <tr style=\"text-align: right;\">\n",
       "      <th></th>\n",
       "      <th>vhigh</th>\n",
       "      <th>vhigh.1</th>\n",
       "      <th>2</th>\n",
       "      <th>2.1</th>\n",
       "      <th>small</th>\n",
       "      <th>low</th>\n",
       "      <th>unacc</th>\n",
       "    </tr>\n",
       "  </thead>\n",
       "  <tbody>\n",
       "    <tr>\n",
       "      <th>0</th>\n",
       "      <td>3</td>\n",
       "      <td>3</td>\n",
       "      <td>0</td>\n",
       "      <td>0</td>\n",
       "      <td>2</td>\n",
       "      <td>2</td>\n",
       "      <td>2</td>\n",
       "    </tr>\n",
       "    <tr>\n",
       "      <th>1</th>\n",
       "      <td>3</td>\n",
       "      <td>3</td>\n",
       "      <td>0</td>\n",
       "      <td>0</td>\n",
       "      <td>2</td>\n",
       "      <td>0</td>\n",
       "      <td>2</td>\n",
       "    </tr>\n",
       "    <tr>\n",
       "      <th>2</th>\n",
       "      <td>3</td>\n",
       "      <td>3</td>\n",
       "      <td>0</td>\n",
       "      <td>0</td>\n",
       "      <td>1</td>\n",
       "      <td>1</td>\n",
       "      <td>2</td>\n",
       "    </tr>\n",
       "    <tr>\n",
       "      <th>3</th>\n",
       "      <td>3</td>\n",
       "      <td>3</td>\n",
       "      <td>0</td>\n",
       "      <td>0</td>\n",
       "      <td>1</td>\n",
       "      <td>2</td>\n",
       "      <td>2</td>\n",
       "    </tr>\n",
       "    <tr>\n",
       "      <th>4</th>\n",
       "      <td>3</td>\n",
       "      <td>3</td>\n",
       "      <td>0</td>\n",
       "      <td>0</td>\n",
       "      <td>1</td>\n",
       "      <td>0</td>\n",
       "      <td>2</td>\n",
       "    </tr>\n",
       "  </tbody>\n",
       "</table>\n",
       "</div>"
      ],
      "text/plain": [
       "   vhigh  vhigh.1  2  2.1  small  low  unacc\n",
       "0      3        3  0    0      2    2      2\n",
       "1      3        3  0    0      2    0      2\n",
       "2      3        3  0    0      1    1      2\n",
       "3      3        3  0    0      1    2      2\n",
       "4      3        3  0    0      1    0      2"
      ]
     },
     "execution_count": 12,
     "metadata": {},
     "output_type": "execute_result"
    }
   ],
   "source": [
    "# 모든 컬럼에 대해 LabelEncoder를 적용\n",
    "for column in df.columns:\n",
    "    if df[column].dtype == 'object':  # 범주형 컬럼만 변환\n",
    "        df[column] = label_encoder.fit_transform(df[column])\n",
    "\n",
    "df.head()"
   ]
  },
  {
   "cell_type": "code",
   "execution_count": 14,
   "id": "9d6bcd6d-e074-4dec-9804-91b5efda9f66",
   "metadata": {},
   "outputs": [
    {
     "name": "stdout",
     "output_type": "stream",
     "text": [
      "unacc 개수:\n",
      "unacc\n",
      "2    1209\n",
      "0     384\n",
      "1      69\n",
      "3      65\n",
      "Name: count, dtype: int64\n"
     ]
    }
   ],
   "source": [
    "# 'unacc' 열의 개수 확인\n",
    "unacc_count = df['unacc'].value_counts()\n",
    "\n",
    "# 결과 출력\n",
    "print(\"unacc 개수:\")\n",
    "print(unacc_count)"
   ]
  },
  {
   "cell_type": "code",
   "execution_count": 18,
   "id": "6b2b8709-3e90-449b-aea5-617de4ad5d8e",
   "metadata": {},
   "outputs": [],
   "source": [
    "x, y = load_data(file_path)  # 데이터 로드"
   ]
  },
  {
   "cell_type": "code",
   "execution_count": 50,
   "id": "66be70da-c340-4171-8a53-cbe2edcad31e",
   "metadata": {},
   "outputs": [],
   "source": [
    "# 데이터를 훈련 세트와 테스트 세트로 분할 (80% 훈련, 20% 테스트)\n",
    "X_train, X_test, y_train, y_test = train_test_split(x, y, test_size=0.2, random_state=42, stratify=y)"
   ]
  },
  {
   "cell_type": "code",
   "execution_count": 52,
   "id": "f5e6a9ca-4b3e-4aed-808b-03e253a47436",
   "metadata": {},
   "outputs": [],
   "source": [
    "# 데이터 정규화 (평균 0, 표준편차 1로 변환)\n",
    "scaler = StandardScaler()\n",
    "X_train_scaled = scaler.fit_transform(X_train)\n",
    "X_test_scaled = scaler.transform(X_test)"
   ]
  },
  {
   "cell_type": "code",
   "execution_count": 54,
   "id": "3bbf2f54-257e-4a55-b7b2-742ff9666de1",
   "metadata": {},
   "outputs": [
    {
     "name": "stdout",
     "output_type": "stream",
     "text": [
      "Decision Tree Accuracy: 0.9913\n",
      "\n",
      "              precision    recall  f1-score   support\n",
      "\n",
      "           0       0.97      0.99      0.98        77\n",
      "           1       0.93      1.00      0.97        14\n",
      "           2       1.00      1.00      1.00       242\n",
      "           3       1.00      0.92      0.96        13\n",
      "\n",
      "    accuracy                           0.99       346\n",
      "   macro avg       0.98      0.98      0.98       346\n",
      "weighted avg       0.99      0.99      0.99       346\n",
      " \n",
      "\n",
      "[[ 76   1   0   0]\n",
      " [  0  14   0   0]\n",
      " [  1   0 241   0]\n",
      " [  1   0   0  12]]\n"
     ]
    }
   ],
   "source": [
    "# Decision Tree (의사결정나무 분류 모델)\n",
    "from sklearn.tree import DecisionTreeClassifier\n",
    "\n",
    "dt_model = DecisionTreeClassifier()\n",
    "dt_model.fit(X_train_scaled, y_train)  # 모델 학습\n",
    "\n",
    "dt_pred = dt_model.predict(X_test_scaled)  # 테스트 데이터 예측\n",
    "dt_acc = accuracy_score(y_test, dt_pred)  # 정확도 평가\n",
    "print(f'Decision Tree Accuracy: {dt_acc:.4f}\\n')\n",
    "print(classification_report(y_test, dt_pred), '\\n')\n",
    "print(confusion_matrix(y_test, dt_pred))"
   ]
  },
  {
   "cell_type": "code",
   "execution_count": 78,
   "id": "2f57e7c9-61de-412e-9bd6-a933172503cc",
   "metadata": {},
   "outputs": [
    {
     "name": "stdout",
     "output_type": "stream",
     "text": [
      "Logistic Regression Accuracy: 0.6821\n",
      "\n",
      "              precision    recall  f1-score   support\n",
      "\n",
      "           0       0.26      0.08      0.12        77\n",
      "           1       1.00      0.00      0.00        14\n",
      "           2       0.73      0.94      0.82       242\n",
      "           3       0.18      0.15      0.17        13\n",
      "\n",
      "    accuracy                           0.68       346\n",
      "   macro avg       0.54      0.29      0.28       346\n",
      "weighted avg       0.62      0.68      0.61       346\n",
      " \n",
      "\n",
      "[[  6   0  63   8]\n",
      " [  1   0  13   0]\n",
      " [ 13   0 228   1]\n",
      " [  3   0   8   2]]\n"
     ]
    }
   ],
   "source": [
    "# Logistic Regression (로지스틱 회귀 분류 모델)\n",
    "from sklearn.linear_model import LogisticRegression\n",
    "\n",
    "lr_model = LogisticRegression(max_iter=200)\n",
    "lr_model.fit(X_train_scaled, y_train)\n",
    "\n",
    "lr_pred = lr_model.predict(X_test_scaled)\n",
    "lr_acc = accuracy_score(y_test, lr_pred)\n",
    "print(f'Logistic Regression Accuracy: {lr_acc:.4f}\\n')\n",
    "print(classification_report(y_test, lr_pred, zero_division=1), '\\n')\n",
    "print(confusion_matrix(y_test, lr_pred))"
   ]
  },
  {
   "cell_type": "code",
   "execution_count": 72,
   "id": "7044057d-5bde-482c-9ffb-604c71c6b942",
   "metadata": {},
   "outputs": [
    {
     "name": "stdout",
     "output_type": "stream",
     "text": [
      "SVM Accuracy: 0.9133\n",
      "\n",
      "              precision    recall  f1-score   support\n",
      "\n",
      "           0       0.75      0.91      0.82        77\n",
      "           1       1.00      0.14      0.25        14\n",
      "           2       0.97      0.97      0.97       242\n",
      "           3       0.91      0.77      0.83        13\n",
      "\n",
      "    accuracy                           0.91       346\n",
      "   macro avg       0.91      0.70      0.72       346\n",
      "weighted avg       0.92      0.91      0.90       346\n",
      " \n",
      "\n",
      "[[ 70   0   6   1]\n",
      " [ 12   2   0   0]\n",
      " [  8   0 234   0]\n",
      " [  3   0   0  10]]\n"
     ]
    }
   ],
   "source": [
    "# SVM (서포트 벡터 머신 분류 모델)\n",
    "from sklearn.svm import SVC\n",
    "\n",
    "svm_model = SVC()\n",
    "svm_model.fit(X_train_scaled, y_train)\n",
    "\n",
    "svm_pred = svm_model.predict(X_test_scaled)\n",
    "svm_acc = accuracy_score(y_test, svm_pred)\n",
    "print(f'SVM Accuracy: {svm_acc:.4f}\\n')\n",
    "print(classification_report(y_test, svm_pred), '\\n')\n",
    "print(confusion_matrix(y_test, svm_pred))"
   ]
  },
  {
   "cell_type": "code",
   "execution_count": 60,
   "id": "7985076e-ff1d-4d49-aab2-4bebab6198ae",
   "metadata": {},
   "outputs": [
    {
     "name": "stdout",
     "output_type": "stream",
     "text": [
      "Random Forest Accuracy: 0.9855\n",
      "\n",
      "              precision    recall  f1-score   support\n",
      "\n",
      "           0       0.96      0.97      0.97        77\n",
      "           1       1.00      1.00      1.00        14\n",
      "           2       0.99      0.99      0.99       242\n",
      "           3       1.00      0.92      0.96        13\n",
      "\n",
      "    accuracy                           0.99       346\n",
      "   macro avg       0.99      0.97      0.98       346\n",
      "weighted avg       0.99      0.99      0.99       346\n",
      " \n",
      "\n",
      "[[ 75   0   2   0]\n",
      " [  0  14   0   0]\n",
      " [  2   0 240   0]\n",
      " [  1   0   0  12]]\n"
     ]
    }
   ],
   "source": [
    "# Random Forest (랜덤 포레스트 분류 모델)\n",
    "from sklearn.ensemble import RandomForestClassifier\n",
    "\n",
    "# 모델 학습\n",
    "rf_model = RandomForestClassifier(n_estimators=100, random_state=42)\n",
    "rf_model.fit(X_train_scaled, y_train)\n",
    "\n",
    "# 예측 및 평가\n",
    "rf_pred = rf_model.predict(X_test_scaled)\n",
    "rf_acc = accuracy_score(y_test, rf_pred)\n",
    "print(f'Random Forest Accuracy: {rf_acc:.4f}\\n')\n",
    "print(classification_report(y_test, rf_pred), '\\n')\n",
    "print(confusion_matrix(y_test, rf_pred))"
   ]
  }
 ],
 "metadata": {
  "kernelspec": {
   "display_name": "Python [conda env:base] *",
   "language": "python",
   "name": "conda-base-py"
  },
  "language_info": {
   "codemirror_mode": {
    "name": "ipython",
    "version": 3
   },
   "file_extension": ".py",
   "mimetype": "text/x-python",
   "name": "python",
   "nbconvert_exporter": "python",
   "pygments_lexer": "ipython3",
   "version": "3.12.7"
  }
 },
 "nbformat": 4,
 "nbformat_minor": 5
}
